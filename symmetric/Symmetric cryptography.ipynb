{
 "cells": [
  {
   "cell_type": "markdown",
   "metadata": {},
   "source": [
    "# Cryptography\n",
    "\n",
    "Derived from two words: \"crypto\" meaning secret, \"graph\" meaning writing. Cryptology is a better name which means study and use of secrets but cryptography is used everywhere."
   ]
  },
  {
   "cell_type": "markdown",
   "metadata": {},
   "source": [
    "### *Quiz 1*\n",
    "\n",
    "Which of these involve cryptology?  \n",
    "<pre>\n",
    "[x] Opening a door\n",
    "    <i>shape of the key is the secret</i>\n",
    "[x] Playing poker\n",
    "    <i>Cards you have are secret</i>\n",
    "[x] Logging into your udacity.com account \n",
    "    <i>Password</i>\n",
    "[x] Doing a search using google.com \n",
    "    <i>SSL Key</i>\n",
    "<pre>"
   ]
  },
  {
   "cell_type": "markdown",
   "metadata": {},
   "source": [
    "## Symmetric and asymmetric cryptography\n",
    "\n",
    "- Symmetric cryptography - encryption and decryption use the same key, faster\n",
    "- Asymmetric cryptography - encryption and decryption use different key, slower  \n",
    "\n",
    "Both types of cryptography are used in different scenarios"
   ]
  },
  {
   "cell_type": "markdown",
   "metadata": {},
   "source": [
    "## Never implement your own crypto\n",
    "\n",
    "Implementing cryptographic algorithms is a challenge.  \n",
    "You can observe properties of a program viewed as a black box. Custom cryptography isn't secure as you can observe certain properties other than their inputs and outputs. These properties are called *side-channels*. Timing is an example of a side channel.  \n",
    "Adding checks to timing side channel adds more complexity to the code we'll write in class.  \n",
    "If you want to use crypto to actually protect something, use libraries."
   ]
  },
  {
   "cell_type": "markdown",
   "metadata": {},
   "source": [
    "### *Quiz 2*\n",
    "\n",
    "Should you use any code from this course to protect nuclear launch codes?\n",
    "```\n",
    "[x] No\n",
    "```"
   ]
  },
  {
   "cell_type": "markdown",
   "metadata": {},
   "source": [
    "## Symmetric cryptosystems\n",
    "\n",
    "**Plaintext -> *encryption* -> Ciphertext**  \n",
    "You can then send the ciphertext over an insecure channel (internet, wireless network etc)  \n",
    "We hope the same ciphertext comes out of the channel  \n",
    "**Ciphertext -> *decryption* -> Plaintext**  \n",
    "\n",
    "$\n",
    "\\begin{align}\n",
    "\\forall m \\in M: D(E(m)) = m\n",
    "\\end{align}\n",
    "$"
   ]
  },
  {
   "cell_type": "markdown",
   "metadata": {},
   "source": [
    "## Kerchoff's principle\n",
    "\n",
    "*The cipher must not depend on the secrecy of the mechanism.*  \n",
    "Even if your encryption and decryption functions are known, your message should still be secure.  \n",
    "This can be achieved by using secret keys. Security depends on keeping the key a secret.  \n",
    "If the function has a weakness, that's a much more serious problem and we need to develop a new function."
   ]
  },
  {
   "cell_type": "markdown",
   "metadata": {},
   "source": [
    "### *Quiz 3*\n",
    "\n",
    "What parts of a cryptosystem must be kept secret?\n",
    "\n",
    "```\n",
    "[ ] Alice\n",
    "[ ] Encryption algorithm\n",
    "[ ] Decryption algorithm\n",
    "[x] Keys\n",
    "[ ] Cipher text\n",
    "```\n",
    "> Point of Kerchoff's principle"
   ]
  },
  {
   "cell_type": "markdown",
   "metadata": {},
   "source": [
    "## Correctness and security\n",
    "\n",
    "$\n",
    "\\begin{align}\n",
    "\\forall m \\in M, c \\in C, k \\in K \\\\\n",
    "E: m \\times k \\rightarrow C \\\\\n",
    "D: c \\times k \\rightarrow E\n",
    "\\end{align}\n",
    "$\n",
    "\n",
    "*Correctness property:*  \n",
    "$\n",
    "\\begin{align}\n",
    "\\forall m, k: D_{k}(E_{k}(m)) = m\n",
    "\\end{align}\n",
    "$\n",
    "\n",
    "*Security property:*  \n",
    "Ideal: Cipher text reveals nothing about key or message"
   ]
  },
  {
   "cell_type": "markdown",
   "metadata": {},
   "source": [
    "## *Quiz 4*\n",
    "\n",
    "Which of these functions satisfy the correctness property for a symmetric cipher?\n",
    "\n",
    "$\n",
    "\\begin{align}\n",
    "M = \\{1, 2, 3, ...\\} \\\\\n",
    "K = \\{1, 2, 3, ...\\} \\\\\n",
    "\\end{align}\n",
    "$\n",
    "\n",
    "`[x]`\n",
    "$\n",
    "\\begin{align}\n",
    "E_{k}(m) = m + k;\\ D_{k}(c) = c - k\n",
    "\\end{align}\n",
    "$  \n",
    "`[x]`\n",
    "$\n",
    "\\begin{align}\n",
    "E_{k}(m) = m;\\ D_{k}(c) = c\n",
    "\\end{align}\n",
    "$  \n",
    "`[ ]`\n",
    "$\n",
    "\\begin{align}\n",
    "E_{k}(m) = m\\  \\%\\  k;\\  D_{k}(c) = c\\  *\\  k\n",
    "\\end{align}\n",
    "$"
   ]
  },
  {
   "cell_type": "code",
   "execution_count": null,
   "metadata": {},
   "outputs": [],
   "source": [
    "\n"
   ]
  }
 ],
 "metadata": {
  "kernelspec": {
   "display_name": "Python 2",
   "language": "python",
   "name": "python2"
  },
  "language_info": {
   "codemirror_mode": {
    "name": "ipython",
    "version": 3
   },
   "file_extension": ".py",
   "mimetype": "text/x-python",
   "name": "python",
   "nbconvert_exporter": "python",
   "pygments_lexer": "ipython3",
   "version": "3.6.5"
  }
 },
 "nbformat": 4,
 "nbformat_minor": 2
}
